{
 "cells": [
  {
   "cell_type": "code",
   "execution_count": 26,
   "metadata": {},
   "outputs": [],
   "source": [
    "import os\n",
    "from pprint import pprint\n",
    "import dask.dataframe as dd\n",
    "import matplotlib.pyplot as plt\n",
    "import numpy as np\n",
    "import aux as aux\n",
    "from dask.distributed import SSHCluster,Client\n",
    "import anomalies as an\n",
    "import pandas as pd"
   ]
  },
  {
   "cell_type": "code",
   "execution_count": 27,
   "metadata": {},
   "outputs": [],
   "source": [
    "client = Client(\"10.67.22.165:42429\")"
   ]
  },
  {
   "cell_type": "code",
   "execution_count": 28,
   "metadata": {},
   "outputs": [],
   "source": [
    "path=os.path.abspath('/home/data/data.csv')\n",
    "\n",
    "df = dd.read_csv(path)"
   ]
  },
  {
   "cell_type": "code",
   "execution_count": 29,
   "metadata": {},
   "outputs": [],
   "source": [
    "hardware_list = ['SW-065', 'SW-088', 'SW-106', 'SW-115']\n",
    "\n",
    "engine_list = ['S117', 'S118', 'S169', 'S170']\n",
    "metrics = ['S41','S109','S100','S101','S102','S106','S107','S108','S122','S124','S126']"
   ]
  },
  {
   "cell_type": "code",
   "execution_count": 30,
   "metadata": {},
   "outputs": [],
   "source": [
    "time, anom, val = an.anomaly_column(df, hardware_list[3], engine_list[0], aggfunc='max')\n",
    "engine_norm = pd.DataFrame({'Minute':time, 'Anomaly':anom, 'Value':val})"
   ]
  },
  {
   "cell_type": "code",
   "execution_count": 31,
   "metadata": {},
   "outputs": [
    {
     "name": "stdout",
     "output_type": "stream",
     "text": [
      "Calculating for metric S41\n",
      "Calculating for metric S109\n",
      "Calculating for metric S100\n"
     ]
    }
   ],
   "source": [
    "metric_list=[]\n",
    "\n",
    "for metric in metrics:\n",
    "    print(f\"Calculating for metric {metric}\")\n",
    "    values, minutes = aux.get_norm_data(df, hardware_list[3], metric)\n",
    "    metric_val = aux.fill_missing_min(values, minutes)\n",
    "    metric_norm = pd.DataFrame({'Minute':time, 'Value':metric_val})\n",
    "    metric_list.append(metric_norm)"
   ]
  },
  {
   "cell_type": "code",
   "execution_count": null,
   "metadata": {},
   "outputs": [],
   "source": [
    "def corr_finder(engine, metric_list, window):\n",
    "    \n",
    "    corr_coeff_pearson = []\n",
    "    corr_coeff_spearman = []\n",
    "    corr_coeff_kendall = []\n",
    "\n",
    "    for k in range(len(metric_list)):\n",
    "        corr_coeff_pearson.append([])\n",
    "        corr_coeff_spearman.append([])\n",
    "        corr_coeff_kendall.append([])\n",
    "\n",
    "    for i in range(len(engine['Anomaly'])):\n",
    "        if engine.iloc[i,1]:\n",
    "            values_engine = list(engine.iloc[i-window:i+window+1,2])\n",
    "            for j,metric in enumerate(metric_list):\n",
    "                values_metric = list(metric.iloc[i-window:i+window+1,1])\n",
    "\n",
    "                df = pd.DataFrame({'values_engine': values_engine, 'values_metric': values_metric})\n",
    "                corr_coeff_pearson[j].append(df.corr(method='pearson').iloc[0, 1])\n",
    "                corr_coeff_spearman[j].append(df.corr(method='spearman').iloc[0, 1])\n",
    "                corr_coeff_kendall[j].append(df.corr(method='kendall').iloc[0, 1])\n",
    "    return corr_coeff_pearson,corr_coeff_spearman,corr_coeff_kendall"
   ]
  },
  {
   "cell_type": "code",
   "execution_count": null,
   "metadata": {},
   "outputs": [],
   "source": [
    "pearson,spearman,kendall=corr_finder(engine_norm,metric_list,window=50)"
   ]
  },
  {
   "cell_type": "code",
   "execution_count": null,
   "metadata": {},
   "outputs": [],
   "source": [
    "with open(f\"{hardware_list[3]}_{engine_list[0]}_correlations.txt\",'w') as file:\n",
    "    for i,metric in enumerate(metrics):\n",
    "        file.write(f'Correlation coefficients for metric {metric}')\n",
    "        file.write('\\n\\n')\n",
    "        file.write(f'Pearson coefficients: ')\n",
    "        file.write(' '.join(map(str,pearson[i])))\n",
    "        file.write('\\n')\n",
    "        file.write(f'Spearman coefficients: ')\n",
    "        file.write(' '.join(map(str,spearman[i])))\n",
    "        file.write('\\n')\n",
    "        file.write(f'Kendall coefficients: ')\n",
    "        file.write(' '.join(map(str,kendall[i])))\n",
    "        file.write('\\n\\n')"
   ]
  },
  {
   "cell_type": "code",
   "execution_count": 43,
   "metadata": {},
   "outputs": [],
   "source": [
    "df_fourmotors=df[df['metric'].isin(['S117','S118','S169','S170'])]"
   ]
  },
  {
   "cell_type": "code",
   "execution_count": 44,
   "metadata": {},
   "outputs": [
    {
     "name": "stdout",
     "output_type": "stream",
     "text": [
      "hw: SW-065 metric: S117\n",
      "The instances of 1 single isolated uptime or downtime reading are: 0\n",
      "The instances of uptimes or downtimes between 30 sec and 1 min are: 2\n",
      "The instances of <30 seconds uptimes or downtimes are: 2\n",
      "hw: SW-065 metric: S169\n",
      "The instances of 1 single isolated uptime or downtime reading are: 0\n",
      "The instances of uptimes or downtimes between 30 sec and 1 min are: 1\n",
      "The instances of <30 seconds uptimes or downtimes are: 0\n",
      "hw: SW-065 metric: S118\n",
      "The instances of 1 single isolated uptime or downtime reading are: 0\n",
      "The instances of uptimes or downtimes between 30 sec and 1 min are: 0\n",
      "The instances of <30 seconds uptimes or downtimes are: 0\n",
      "hw: SW-065 metric: S170\n",
      "The instances of 1 single isolated uptime or downtime reading are: 0\n",
      "The instances of uptimes or downtimes between 30 sec and 1 min are: 0\n",
      "The instances of <30 seconds uptimes or downtimes are: 0\n",
      "hw: SW-088 metric: S169\n",
      "The instances of 1 single isolated uptime or downtime reading are: 0\n",
      "The instances of uptimes or downtimes between 30 sec and 1 min are: 24\n",
      "The instances of <30 seconds uptimes or downtimes are: 16\n",
      "hw: SW-088 metric: S170\n",
      "The instances of 1 single isolated uptime or downtime reading are: 0\n",
      "The instances of uptimes or downtimes between 30 sec and 1 min are: 6\n",
      "The instances of <30 seconds uptimes or downtimes are: 8\n",
      "hw: SW-088 metric: S118\n",
      "The instances of 1 single isolated uptime or downtime reading are: 0\n",
      "The instances of uptimes or downtimes between 30 sec and 1 min are: 2\n",
      "The instances of <30 seconds uptimes or downtimes are: 4\n",
      "hw: SW-088 metric: S117\n",
      "The instances of 1 single isolated uptime or downtime reading are: 0\n",
      "The instances of uptimes or downtimes between 30 sec and 1 min are: 56\n",
      "The instances of <30 seconds uptimes or downtimes are: 40\n",
      "hw: SW-106 metric: S170\n",
      "The instances of 1 single isolated uptime or downtime reading are: 0\n",
      "The instances of uptimes or downtimes between 30 sec and 1 min are: 2\n",
      "The instances of <30 seconds uptimes or downtimes are: 7\n",
      "hw: SW-106 metric: S117\n",
      "The instances of 1 single isolated uptime or downtime reading are: 0\n",
      "The instances of uptimes or downtimes between 30 sec and 1 min are: 32\n",
      "The instances of <30 seconds uptimes or downtimes are: 26\n",
      "hw: SW-106 metric: S118\n",
      "The instances of 1 single isolated uptime or downtime reading are: 0\n",
      "The instances of uptimes or downtimes between 30 sec and 1 min are: 3\n",
      "The instances of <30 seconds uptimes or downtimes are: 3\n",
      "hw: SW-106 metric: S169\n",
      "The instances of 1 single isolated uptime or downtime reading are: 0\n",
      "The instances of uptimes or downtimes between 30 sec and 1 min are: 24\n",
      "The instances of <30 seconds uptimes or downtimes are: 21\n",
      "hw: SW-115 metric: S118\n",
      "The instances of 1 single isolated uptime or downtime reading are: 0\n",
      "The instances of uptimes or downtimes between 30 sec and 1 min are: 13\n",
      "The instances of <30 seconds uptimes or downtimes are: 4\n",
      "hw: SW-115 metric: S117\n",
      "The instances of 1 single isolated uptime or downtime reading are: 0\n",
      "The instances of uptimes or downtimes between 30 sec and 1 min are: 218\n",
      "The instances of <30 seconds uptimes or downtimes are: 120\n",
      "hw: SW-115 metric: S169\n",
      "The instances of 1 single isolated uptime or downtime reading are: 0\n",
      "The instances of uptimes or downtimes between 30 sec and 1 min are: 165\n",
      "The instances of <30 seconds uptimes or downtimes are: 128\n",
      "hw: SW-115 metric: S170\n",
      "The instances of 1 single isolated uptime or downtime reading are: 0\n",
      "The instances of uptimes or downtimes between 30 sec and 1 min are: 20\n",
      "The instances of <30 seconds uptimes or downtimes are: 2\n"
     ]
    }
   ],
   "source": [
    "aux.find_anomaly_number(df_fourmotors)"
   ]
  },
  {
   "cell_type": "code",
   "execution_count": null,
   "metadata": {},
   "outputs": [],
   "source": []
  }
 ],
 "metadata": {
  "kernelspec": {
   "display_name": "Python 3 (ipykernel)",
   "language": "python",
   "name": "python3"
  },
  "language_info": {
   "codemirror_mode": {
    "name": "ipython",
    "version": 3
   },
   "file_extension": ".py",
   "mimetype": "text/x-python",
   "name": "python",
   "nbconvert_exporter": "python",
   "pygments_lexer": "ipython3",
   "version": "3.11.8"
  }
 },
 "nbformat": 4,
 "nbformat_minor": 4
}
