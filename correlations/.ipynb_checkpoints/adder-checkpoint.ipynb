{
 "cells": [
  {
   "cell_type": "code",
   "execution_count": 44,
   "id": "d1d0da6a-2a25-4ff7-9df9-aa3cf1f27f90",
   "metadata": {},
   "outputs": [],
   "source": [
    "import os\n",
    "from pprint import pprint\n",
    "import dask.dataframe as dd\n",
    "import matplotlib.pyplot as plt\n",
    "import numpy as np\n",
    "import aux as aux\n",
    "from dask.distributed import SSHCluster,Client\n",
    "import anomalies as an\n",
    "import pandas as pd"
   ]
  },
  {
   "cell_type": "code",
   "execution_count": 45,
   "id": "b6fa3256-a205-418d-82e5-138b01d865b8",
   "metadata": {},
   "outputs": [],
   "source": [
    "client = Client(\"172.19.0.2:8786\")"
   ]
  },
  {
   "cell_type": "code",
   "execution_count": 46,
   "id": "f1fc4ae4-f659-4afd-8540-f086177d8388",
   "metadata": {},
   "outputs": [],
   "source": [
    "path=os.path.abspath('./data/data.csv')\n",
    "\n",
    "df = dd.read_csv(path)"
   ]
  },
  {
   "cell_type": "code",
   "execution_count": 47,
   "id": "57078a17-c188-4674-abf1-def15b801792",
   "metadata": {},
   "outputs": [],
   "source": [
    "hardware_list = ['SW-065', 'SW-088', 'SW-106', 'SW-115']\n",
    "\n",
    "engine_list = ['S117', 'S118', 'S169', 'S170']\n",
    "# metrics = ['S41','S110','S100','S101','S102','S106','S107','S108','S122','S124','S126']\n",
    "metrics = ['S167']\n",
    "# metrics = ['S112', 'S113', 'S114', 'S115',] #esterne"
   ]
  },
  {
   "cell_type": "code",
   "execution_count": 48,
   "id": "cb7a385a-1005-4f56-8179-0a4a0ab11c1d",
   "metadata": {},
   "outputs": [],
   "source": [
    "time, anom, val = an.anomaly_column(df, hardware_list[3], engine_list[3], aggfunc='max')\n",
    "engine_norm = pd.DataFrame({'Minute':time, 'Anomaly':anom, 'Value':val})"
   ]
  },
  {
   "cell_type": "code",
   "execution_count": 49,
   "id": "26cd8551-223a-4783-87e7-45f5cc85cdbd",
   "metadata": {},
   "outputs": [
    {
     "name": "stdout",
     "output_type": "stream",
     "text": [
      "Calculating for metric S167\n"
     ]
    }
   ],
   "source": [
    "metric_list=[]\n",
    "\n",
    "for metric in metrics:\n",
    "    print(f\"Calculating for metric {metric}\")\n",
    "    values, minutes = aux.get_norm_data(df, hardware_list[3], metric)\n",
    "    metric_val = aux.fill_missing_min(values, minutes)\n",
    "    metric_norm = pd.DataFrame({'Minute':time, 'Value':metric_val})\n",
    "    metric_list.append(metric_norm)"
   ]
  },
  {
   "cell_type": "code",
   "execution_count": 50,
   "id": "fda9f322-c5bc-42ad-b200-6cf14444b31c",
   "metadata": {},
   "outputs": [],
   "source": [
    "def corr_finder(engine, metric_list, window):\n",
    "    \n",
    "    corr_coeff_pearson = []\n",
    "    corr_coeff_spearman = []\n",
    "    corr_coeff_kendall = []\n",
    "    tot_corr_coeff = []\n",
    "\n",
    "    for k in range(len(metric_list)):\n",
    "        corr_coeff_pearson.append([])\n",
    "        corr_coeff_spearman.append([])\n",
    "        corr_coeff_kendall.append([])\n",
    "\n",
    "    for metric in metric_list:\n",
    "        dftot = pd.DataFrame({'values_engine': list(engine.iloc[:,1]), 'values_metric': list(metric.iloc[:,1])})\n",
    "        corrs = [dftot.corr(method='pearson').iloc[0,1],dftot.corr(method='spearman').iloc[0,1],dftot.corr(method='kendall').iloc[0,1]]\n",
    "        tot_corr_coeff.append(corrs)\n",
    "\n",
    "    for i in range(len(engine['Anomaly'])):\n",
    "        if engine.iloc[i,1]:\n",
    "            values_engine = list(engine.iloc[i-window:i+window+1,2])\n",
    "            for j,metric in enumerate(metric_list):\n",
    "                values_metric = list(metric.iloc[i-window:i+window+1,1])\n",
    "\n",
    "                df = pd.DataFrame({'values_engine': values_engine, 'values_metric': values_metric})\n",
    "                corr_coeff_pearson[j].append(df.corr(method='pearson').iloc[0, 1])\n",
    "                corr_coeff_spearman[j].append(df.corr(method='spearman').iloc[0, 1])\n",
    "                corr_coeff_kendall[j].append(df.corr(method='kendall').iloc[0, 1])\n",
    "    return corr_coeff_pearson,corr_coeff_spearman,corr_coeff_kendall,tot_corr_coeff"
   ]
  },
  {
   "cell_type": "code",
   "execution_count": 51,
   "id": "4832b44a-4c96-41e5-8873-e937d411e550",
   "metadata": {},
   "outputs": [],
   "source": [
    "pearson,spearman,kendall,tot=corr_finder(engine_norm,metric_list,window=50)"
   ]
  },
  {
   "cell_type": "code",
   "execution_count": 52,
   "id": "8fa7a336-b694-42ae-ac8d-fdf972805451",
   "metadata": {},
   "outputs": [],
   "source": [
    "with open(f\"{hardware_list[3]}_{engine_list[3]}_correlations.txt\",'a') as file:\n",
    "    for i,metric in enumerate(metrics):\n",
    "        file.write(f'Correlation coefficients for metric {metric}')\n",
    "        file.write('\\n\\n')\n",
    "        file.write(f'Pearson, Spearman and Kendall total correlations:')\n",
    "        file.write(' '.join(map(str,tot[i])))\n",
    "        file.write('\\n\\n')\n",
    "        file.write(f'Pearson coefficients: ')\n",
    "        file.write(' '.join(map(str,pearson[i])))\n",
    "        file.write('\\n')\n",
    "        file.write(f'Spearman coefficients: ')\n",
    "        file.write(' '.join(map(str,spearman[i])))\n",
    "        file.write('\\n')\n",
    "        file.write(f'Kendall coefficients: ')\n",
    "        file.write(' '.join(map(str,kendall[i])))\n",
    "        file.write('\\n\\n')"
   ]
  },
  {
   "cell_type": "code",
   "execution_count": null,
   "id": "1ef49062-42da-41f8-9c47-4fa4996f71a3",
   "metadata": {},
   "outputs": [],
   "source": []
  }
 ],
 "metadata": {
  "kernelspec": {
   "display_name": "Python 3 (ipykernel)",
   "language": "python",
   "name": "python3"
  },
  "language_info": {
   "codemirror_mode": {
    "name": "ipython",
    "version": 3
   },
   "file_extension": ".py",
   "mimetype": "text/x-python",
   "name": "python",
   "nbconvert_exporter": "python",
   "pygments_lexer": "ipython3",
   "version": "3.11.8"
  }
 },
 "nbformat": 4,
 "nbformat_minor": 5
}
